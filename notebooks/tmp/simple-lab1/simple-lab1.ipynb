{
 "cells": [
  {
   "cell_type": "markdown",
   "metadata": {},
   "source": [
    "Initialize the OK tests to get started."
   ]
  },
  {
   "cell_type": "code",
   "execution_count": 1,
   "metadata": {
    "collapsed": true
   },
   "outputs": [],
   "source": [
    "from client.api.notebook import Notebook\n",
    "ok = Notebook('lab02.ok')\n",
    "_ = ok.auth(inline=True)"
   ]
  },
  {
   "cell_type": "markdown",
   "metadata": {},
   "source": [
    "**Submission**: This should be submitted in PDF format with Homework 2.  "
   ]
  },
  {
   "cell_type": "code",
   "execution_count": 2,
   "metadata": {},
   "outputs": [
    {
     "data": {
      "text/plain": [
       "2018"
      ]
     },
     "execution_count": 2,
     "metadata": {},
     "output_type": "execute_result"
    }
   ],
   "source": [
    "a=5*13*31+2\n",
    "b=2**5-2**11-2**1\n",
    "b=2018\n",
    "new_year = max(a,b)\n",
    "new_year"
   ]
  },
  {
   "cell_type": "markdown",
   "metadata": {},
   "source": [
    "Check your work by executing the next cell."
   ]
  },
  {
   "cell_type": "code",
   "execution_count": 3,
   "metadata": {},
   "outputs": [
    {
     "data": {
      "text/html": [
       "\n",
       "    \n",
       "    \n",
       "        <p>All tests passed!</p>\n",
       "    \n",
       "    "
      ],
      "text/plain": [
       "<gofer.ok.OKTestsResult at 0x106597b70>"
      ]
     },
     "metadata": {},
     "output_type": "display_data"
    }
   ],
   "source": [
    "_ = ok.grade('q11')"
   ]
  },
  {
   "cell_type": "markdown",
   "metadata": {},
   "source": [
    "**Question 2.1.** Yuri Gagarin was the first person to travel through outer space.  When he emerged from his capsule upon landing on Earth, he [reportedly](https://en.wikiquote.org/wiki/Yuri_Gagarin) had the following conversation with a woman and girl who saw the landing:\n",
    "\n",
    "    The woman asked: \"Can it be that you have come from outer space?\"\n",
    "    Gagarin replied: \"As a matter of fact, I have!\"\n",
    "\n",
    "The cell below contains unfinished code.  Fill in the `...`s so that it prints out this conversation *exactly* as it appears above."
   ]
  },
  {
   "cell_type": "code",
   "execution_count": 4,
   "metadata": {},
   "outputs": [
    {
     "name": "stdout",
     "output_type": "stream",
     "text": [
      " \"Can it be that you have come from outer space?\"\n",
      "Gagarin replied: \"As a matter of fact, I have!\"\n"
     ]
    }
   ],
   "source": [
    "woman_asking = \"\"\n",
    "woman_quote = '\"Can it be that you have come from outer space?\"'\n",
    "gagarin_reply = 'Gagarin replied:'\n",
    "gagarin_quote = '\"As a matter of fact, I have!\"'\n",
    "\n",
    "print(woman_asking, woman_quote)\n",
    "print(gagarin_reply, gagarin_quote)"
   ]
  },
  {
   "cell_type": "code",
   "execution_count": 5,
   "metadata": {},
   "outputs": [
    {
     "data": {
      "text/html": [
       "\n",
       "    \n",
       "    \n",
       "        <p>0 of 1 tests passed</p>\n",
       "        \n",
       "        \n",
       "        <p> <strong>Tests failed: </strong>\n",
       "            <ul>\n",
       "            \n",
       "                <li> \n",
       "    <p><strong style='color: red;'>/Users/jasonkuruzovich/githubdesktop/0_class/summer_2019/notebooks/tests/q21.py</strong></p>\n",
       "\n",
       "    <p><strong>Test code:</strong><pre><div class=\"highlight\" style=\"background: #f8f8f8\"><pre style=\"line-height: 125%\"><span></span><span style=\"color: #000080; font-weight: bold\">&gt;&gt;&gt; </span>woman_asking\n",
       "<span style=\"color: #888888\">&#39;The woman asked:&#39;</span>\n",
       "<span style=\"color: #000080; font-weight: bold\">&gt;&gt;&gt; </span>gagarin_quote\n",
       "<span style=\"color: #888888\">&#39;&quot;As a matter of fact, I have!&quot;&#39;</span>\n",
       "</pre></div>\n",
       "</pre></p>\n",
       "\n",
       "    <p><strong>Test result:</strong><pre>Trying:\n",
       "    woman_asking\n",
       "Expecting:\n",
       "    'The woman asked:'\n",
       "**********************************************************************\n",
       "Line 2, in /Users/jasonkuruzovich/githubdesktop/0_class/summer_2019/notebooks/tests/q21.py 0\n",
       "Failed example:\n",
       "    woman_asking\n",
       "Expected:\n",
       "    'The woman asked:'\n",
       "Got:\n",
       "    ''\n",
       "Trying:\n",
       "    gagarin_quote\n",
       "Expecting:\n",
       "    '\"As a matter of fact, I have!\"'\n",
       "ok\n",
       "</pre></p>\n",
       "     </li>\n",
       "            \n",
       "            </ul>\n",
       "        \n",
       "    \n",
       "    "
      ],
      "text/plain": [
       "<gofer.ok.OKTestsResult at 0x1063b1f28>"
      ]
     },
     "metadata": {},
     "output_type": "display_data"
    }
   ],
   "source": [
    "_ = ok.grade('q21')"
   ]
  },
  {
   "cell_type": "markdown",
   "metadata": {},
   "source": [
    "## 2.1. String Methods"
   ]
  },
  {
   "cell_type": "markdown",
   "metadata": {},
   "source": [
    "Strings can be transformed using **methods**, which are functions that involve an existing string and some other arguments. One example is the `replace` method, which replaces all instances of some part of a string with some alternative. \n",
    "\n",
    "A method is invoked on a string by placing a `.` after the string value, then the name of the method, and finally parentheses containing the arguments. Here's a sketch, where the `<` and `>` symbols aren't part of the syntax; they just mark the boundaries of sub-expressions.\n",
    "\n",
    "    <expression that evaluates to a string>.<method name>(<argument>, <argument>, ...)\n",
    "\n",
    "Try to predict the output of these examples, then execute them."
   ]
  },
  {
   "cell_type": "code",
   "execution_count": 6,
   "metadata": {},
   "outputs": [
    {
     "data": {
      "text/plain": [
       "'Hella'"
      ]
     },
     "execution_count": 6,
     "metadata": {},
     "output_type": "execute_result"
    }
   ],
   "source": [
    "# Replace one letter\n",
    "'Hello'.replace('o', 'a')"
   ]
  },
  {
   "cell_type": "code",
   "execution_count": 7,
   "metadata": {},
   "outputs": [
    {
     "data": {
      "text/plain": [
       "'matchmaker'"
      ]
     },
     "execution_count": 7,
     "metadata": {},
     "output_type": "execute_result"
    }
   ],
   "source": [
    "# Replace a sequence of letters, which appears twice\n",
    "'hitchhiker'.replace('hi', 'ma')"
   ]
  },
  {
   "cell_type": "markdown",
   "metadata": {},
   "source": [
    "Once a name is bound to a string value, methods can be invoked on that name as well. The name is still bound to the original string, so a new name is needed to capture the result. "
   ]
  },
  {
   "cell_type": "code",
   "execution_count": 8,
   "metadata": {},
   "outputs": [
    {
     "name": "stdout",
     "output_type": "stream",
     "text": [
      "sharp: edged\n",
      "hot: magma\n"
     ]
    }
   ],
   "source": [
    "sharp = 'edged'\n",
    "hot = sharp.replace('ed', 'ma')\n",
    "print('sharp:', sharp)\n",
    "print('hot:', hot)"
   ]
  },
  {
   "cell_type": "markdown",
   "metadata": {},
   "source": [
    "You can call functions on the results of other functions.  For example,\n",
    "\n",
    "    max(abs(-5), abs(3))\n",
    "\n",
    "has value 5.  Similarly, you can invoke methods on the results of other method (or function) calls."
   ]
  },
  {
   "cell_type": "code",
   "execution_count": 9,
   "metadata": {},
   "outputs": [
    {
     "data": {
      "text/plain": [
       "'degrade'"
      ]
     },
     "execution_count": 9,
     "metadata": {},
     "output_type": "execute_result"
    }
   ],
   "source": [
    "# Calling replace on the output of another call to\n",
    "# replace\n",
    "'train'.replace('t', 'ing').replace('in', 'de')"
   ]
  },
  {
   "cell_type": "markdown",
   "metadata": {},
   "source": [
    "Here's a picture of how Python evaluates a \"chained\" method call like that:\n",
    "\n",
    "<img src=\"chaining_method_calls.jpg\"/>"
   ]
  },
  {
   "cell_type": "markdown",
   "metadata": {},
   "source": [
    "**Question 2.1.1.** Assign strings to the names `you` and `this` so that the final expression evaluates to a 10-letter English word with three double letters in a row.\n",
    "\n",
    "*Hint:* After you guess at some values for `you` and `this`, it's helpful to see the value of the variable `the`.  Try printing the value of `the` by adding a line like this:\n",
    "    \n",
    "    print(the)\n",
    "\n",
    "*Hint 2:* Run the tests if you're stuck.  They'll often give you help."
   ]
  },
  {
   "cell_type": "code",
   "execution_count": 10,
   "metadata": {},
   "outputs": [],
   "source": [
    "#you = ...\n",
    "#this = ...\n",
    "#a = 'beeper'\n",
    "#the = a.replace('p', you) \n",
    "#the.replace('bee', this)"
   ]
  },
  {
   "cell_type": "code",
   "execution_count": 11,
   "metadata": {},
   "outputs": [
    {
     "data": {
      "text/html": [
       "\n",
       "    \n",
       "    \n",
       "        <p>0 of 1 tests passed</p>\n",
       "        \n",
       "        \n",
       "        <p> <strong>Tests failed: </strong>\n",
       "            <ul>\n",
       "            \n",
       "                <li> \n",
       "    <p><strong style='color: red;'>/Users/jasonkuruzovich/githubdesktop/0_class/summer_2019/notebooks/tests/q211.py</strong></p>\n",
       "\n",
       "    <p><strong>Test code:</strong><pre><div class=\"highlight\" style=\"background: #f8f8f8\"><pre style=\"line-height: 125%\"><span></span><span style=\"color: #000080; font-weight: bold\">&gt;&gt;&gt; </span><span style=\"color: #408080; font-style: italic\"># Hint 1: Try to make the word &quot;bookkeeper&quot;!</span>\n",
       "<span style=\"color: #000080; font-weight: bold\">&gt;&gt;&gt; </span><span style=\"color: #408080; font-style: italic\"># </span>\n",
       "<span style=\"color: #000080; font-weight: bold\">&gt;&gt;&gt; </span><span style=\"color: #408080; font-style: italic\"># Hint 2: After writing this:</span>\n",
       "<span style=\"color: #000080; font-weight: bold\">&gt;&gt;&gt; </span><span style=\"color: #408080; font-style: italic\">#   you = &#39;keep&#39;</span>\n",
       "<span style=\"color: #000080; font-weight: bold\">&gt;&gt;&gt; </span><span style=\"color: #408080; font-style: italic\"># the value of the variable named &#39;the&#39; will be</span>\n",
       "<span style=\"color: #000080; font-weight: bold\">&gt;&gt;&gt; </span><span style=\"color: #408080; font-style: italic\">#   &#39;beekeeper&#39;</span>\n",
       "<span style=\"color: #000080; font-weight: bold\">&gt;&gt;&gt; </span><span style=\"color: #BA2121\">&#39;beeper&#39;</span><span style=\"color: #666666\">.</span>replace(<span style=\"color: #BA2121\">&#39;p&#39;</span>, you)<span style=\"color: #666666\">.</span>replace(<span style=\"color: #BA2121\">&#39;bee&#39;</span>, this)[::<span style=\"color: #666666\">-1</span>]\n",
       "<span style=\"color: #888888\">&#39;repeekkoob&#39;</span>\n",
       "</pre></div>\n",
       "</pre></p>\n",
       "\n",
       "    <p><strong>Test result:</strong><pre>Trying:\n",
       "    'beeper'.replace('p', you).replace('bee', this)[::-1]\n",
       "Expecting:\n",
       "    'repeekkoob'\n",
       "**********************************************************************\n",
       "Line 8, in /Users/jasonkuruzovich/githubdesktop/0_class/summer_2019/notebooks/tests/q211.py 0\n",
       "Failed example:\n",
       "    'beeper'.replace('p', you).replace('bee', this)[::-1]\n",
       "Exception raised:\n",
       "    Traceback (most recent call last):\n",
       "      File \"/Users/jasonkuruzovich/anaconda3/envs/startup/lib/python3.6/doctest.py\", line 1330, in __run\n",
       "        compileflags, 1), test.globs)\n",
       "      File \"<doctest /Users/jasonkuruzovich/githubdesktop/0_class/summer_2019/notebooks/tests/q211.py 0[0]>\", line 1, in <module>\n",
       "        'beeper'.replace('p', you).replace('bee', this)[::-1]\n",
       "    NameError: name 'you' is not defined\n",
       "</pre></p>\n",
       "     </li>\n",
       "            \n",
       "            </ul>\n",
       "        \n",
       "    \n",
       "    "
      ],
      "text/plain": [
       "<gofer.ok.OKTestsResult at 0x1065dd748>"
      ]
     },
     "metadata": {},
     "output_type": "display_data"
    }
   ],
   "source": [
    "_ = ok.grade('q211')"
   ]
  },
  {
   "cell_type": "code",
   "execution_count": null,
   "metadata": {},
   "outputs": [],
   "source": [
    "man1=\"test manual answer\"\n",
    "man2=\"test manual answer\"\n",
    "\n",
    "\n",
    "course=\"mgmt6560\"   #course number\n",
    "section=\"01\"          #section \n",
    "first_name=\"1for3\"   #For example, \"jason\"\n",
    "last_name=\"1for3\"    #For example, \"kuruzovich\"\n",
    "student_email=\"1for3\"     #for example \"kuruzj@rpi.edu\"\n",
    "github_id=\"1for3\"     #github id for example \"jkuruzovich\"\n",
    "collaborators = \"\"  #You can speak with others regarding the assignment, but all typed work must be your own.\n",
    "\n",
    "\n"
   ]
  },
  {
   "cell_type": "code",
   "execution_count": null,
   "metadata": {},
   "outputs": [],
   "source": [
    "import configparser, sys, os, importlib, json\n",
    "from bs4 import BeautifulSoup\n",
    "from client.api.notebook import Notebook\n",
    "#Load the configuration\n",
    "with open('config.json', 'r') as fp:\n",
    "    cf = json.load(fp)\n",
    "#load the autograding library\n",
    "sys.path.append(cf['autograde_lib'])\n",
    "import grading_object_detection as god\n",
    "\n"
   ]
  },
  {
   "cell_type": "code",
   "execution_count": null,
   "metadata": {},
   "outputs": [],
   "source": [
    "\n",
    "!pip install git+https://github.com/rpi-techfundamentals/Gofer-Grader\n",
    "\n"
   ]
  },
  {
   "cell_type": "code",
   "execution_count": null,
   "metadata": {},
   "outputs": [],
   "source": [
    "\n",
    "#Checks function.\n",
    "#def check_get_hashtags(file,hashtag,answer):\n",
    "#    with open(file) as json_file:\n",
    "#        statuses = json.load(json_file)\n",
    "#    other_hashtags = get_hashtags(statuses, hashtag)\n",
    "#    #print(other_hashtags)\n",
    "#    other_hashtags = [s.replace('#', '') for s in other_hashtags]\n",
    "#    if other_hashtags==answer:\n",
    "#        return True\n",
    "#    else:\n",
    "#        return False\n",
    "\n"
   ]
  },
  {
   "cell_type": "code",
   "execution_count": null,
   "metadata": {},
   "outputs": [],
   "source": [
    "\n",
    "ok = Notebook(cf['ok_file'])\n",
    "_ = ok.auth(inline=False)\n",
    "results= {q[:-3]:ok.grade(q[:-3]) for q in os.listdir(\"tests\") if q.startswith('q')}\n",
    "\n",
    "\n"
   ]
  },
  {
   "cell_type": "code",
   "execution_count": null,
   "metadata": {},
   "outputs": [],
   "source": [
    "\n",
    "import autograde as ag\n",
    "importlib.reload(ag)\n",
    "\n",
    "def output_tests(cf, results):\n",
    "    autograde={}\n",
    "    autograde['github_id']=cf['github_id']\n",
    "    #This is a selection of variables from config file.\n",
    "    for s in cf['variables']:\n",
    "        if s in globals():\n",
    "            autograde[s]=eval(s).lower()\n",
    "        else:\n",
    "            autograde[s]=None\n",
    "\n",
    "    #get text based answers for manual grading.\n",
    "    for a in cf['answers']:\n",
    "        if a in globals():\n",
    "            autograde[a]=eval(a).strip()\n",
    "        else:\n",
    "            autograde[a]='No answer.'\n",
    "        autograde[a+\"_score\"]=''\n",
    "\n",
    "    total_autograde=0\n",
    "\n",
    "    #This loops through the results\n",
    "    for key, val in results.items():\n",
    "        autograde[key]=val.grade\n",
    "        results_key=str(key)+\"-failed\"\n",
    "        autograde[key]=val.grade*cf['points_per_test']\n",
    "        total_autograde+=autograde[key]\n",
    "        #We use beautiful soup to parse the tests.\n",
    "        soup = BeautifulSoup(str(val.failed_tests), \"html.parser\")\n",
    "        #There are multiple components, but the expected data seems most valuable.\n",
    "        got = soup.get_text().split('\\\\n')[16:20]\n",
    "        autograde[results_key]=str(got)\n",
    "        #total grade\n",
    "    autograde['autograde_total']=total_autograde\n",
    "\n",
    "    with open(cf['github_id']+'.json', 'w') as fp:\n",
    "                json.dump(autograde, fp, sort_keys=True, indent=4)\n",
    "\n",
    "    return autograde\n",
    "\n",
    "grade=output_tests(cf, results)\n",
    "grade\n"
   ]
  }
 ],
 "metadata": {
  "anaconda-cloud": {},
  "kernelspec": {
   "display_name": "Python 3",
   "language": "python",
   "name": "python3"
  },
  "language_info": {
   "codemirror_mode": {
    "name": "ipython",
    "version": 3
   },
   "file_extension": ".py",
   "mimetype": "text/x-python",
   "name": "python",
   "nbconvert_exporter": "python",
   "pygments_lexer": "ipython3",
   "version": "3.7.4"
  }
 },
 "nbformat": 4,
 "nbformat_minor": 2
}
