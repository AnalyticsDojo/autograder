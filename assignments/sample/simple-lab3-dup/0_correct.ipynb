{
 "cells": [
  {
   "cell_type": "markdown",
   "metadata": {
    "colab_type": "text",
    "id": "YUEZsRwqlj52"
   },
   "source": [
    "Initialize the OK tests to get started."
   ]
  },
  {
   "cell_type": "code",
   "execution_count": 1,
   "metadata": {
    "colab": {
     "base_uri": "https://localhost:8080/",
     "height": 1000
    },
    "colab_type": "code",
    "executionInfo": {
     "elapsed": 5317,
     "status": "ok",
     "timestamp": 1567019056406,
     "user": {
      "displayName": "Jason Kuruzovich",
      "photoUrl": "https://lh3.googleusercontent.com/a-/AAuE7mA3rVQCA8Cvb_ag0a37NtL0nadMqx5jcT3eM5bn0g=s64",
      "userId": "00154528308428981209"
     },
     "user_tz": 240
    },
    "id": "r6oll5_Rll_a",
    "outputId": "86393792-a44f-446a-acf5-5ac04f658f4e"
   },
   "outputs": [
    {
     "name": "stdout",
     "output_type": "stream",
     "text": [
      "Collecting git+https://github.com/data-8/Gofer-Grader\n",
      "  Cloning https://github.com/data-8/Gofer-Grader to /private/var/folders/2l/hz84cqd11f1_kgngygpjvbmh0000gn/T/pip-req-build-_lutv8c7\n",
      "  Running command git clone -q https://github.com/data-8/Gofer-Grader /private/var/folders/2l/hz84cqd11f1_kgngygpjvbmh0000gn/T/pip-req-build-_lutv8c7\n",
      "Requirement already satisfied (use --upgrade to upgrade): gofer-grader==1.0.9 from git+https://github.com/data-8/Gofer-Grader in /Users/jasonkuruzovich/anaconda3/envs/autograde/lib/python3.7/site-packages\n",
      "Requirement already satisfied: jinja2 in /Users/jasonkuruzovich/anaconda3/envs/autograde/lib/python3.7/site-packages (from gofer-grader==1.0.9) (2.10.1)\n",
      "Requirement already satisfied: pygments in /Users/jasonkuruzovich/anaconda3/envs/autograde/lib/python3.7/site-packages (from gofer-grader==1.0.9) (2.4.2)\n",
      "Requirement already satisfied: tornado in /Users/jasonkuruzovich/anaconda3/envs/autograde/lib/python3.7/site-packages (from gofer-grader==1.0.9) (6.0.3)\n",
      "Requirement already satisfied: MarkupSafe>=0.23 in /Users/jasonkuruzovich/anaconda3/envs/autograde/lib/python3.7/site-packages (from jinja2->gofer-grader==1.0.9) (1.1.1)\n",
      "Building wheels for collected packages: gofer-grader\n",
      "  Building wheel for gofer-grader (setup.py) ... \u001b[?25ldone\n",
      "\u001b[?25h  Created wheel for gofer-grader: filename=gofer_grader-1.0.9-cp37-none-any.whl size=10111 sha256=3fac80712b5d746e391ad7fe6f0614299d688bf84d1a42b01dcaaad812726261\n",
      "  Stored in directory: /private/var/folders/2l/hz84cqd11f1_kgngygpjvbmh0000gn/T/pip-ephem-wheel-cache-_t5cy65f/wheels/9e/62/24/8563ae039051d6ba979557d1766bfebbda5dd08f8572e3e35d\n",
      "Successfully built gofer-grader\n"
     ]
    }
   ],
   "source": [
    "!pip install git+https://github.com/data-8/Gofer-Grader"
   ]
  },
  {
   "cell_type": "code",
   "execution_count": 2,
   "metadata": {
    "colab": {},
    "colab_type": "code",
    "id": "8iuIaTkklj58"
   },
   "outputs": [],
   "source": [
    "from client.api.notebook import Notebook\n",
    "ok = Notebook('lab02.ok')\n",
    "_ = ok.auth(inline=True)"
   ]
  },
  {
   "cell_type": "markdown",
   "metadata": {
    "colab_type": "text",
    "id": "bMxvqXgRlj6H"
   },
   "source": [
    "**Submission**: This should be submitted in PDF format with Homework 2.  "
   ]
  },
  {
   "cell_type": "code",
   "execution_count": 3,
   "metadata": {
    "colab": {
     "base_uri": "https://localhost:8080/",
     "height": 34
    },
    "colab_type": "code",
    "executionInfo": {
     "elapsed": 5878,
     "status": "ok",
     "timestamp": 1567018850795,
     "user": {
      "displayName": "Jason Kuruzovich",
      "photoUrl": "https://lh3.googleusercontent.com/a-/AAuE7mA3rVQCA8Cvb_ag0a37NtL0nadMqx5jcT3eM5bn0g=s64",
      "userId": "00154528308428981209"
     },
     "user_tz": 240
    },
    "id": "2CdCalrGlj6K",
    "outputId": "49ce0a5f-41af-4a6e-85c9-cd607b55170d"
   },
   "outputs": [
    {
     "data": {
      "text/plain": [
       "2018"
      ]
     },
     "execution_count": 3,
     "metadata": {},
     "output_type": "execute_result"
    }
   ],
   "source": [
    "a=5*13*31+2\n",
    "b=2**5-2**11-2**1\n",
    "b=2018\n",
    "new_year = max(a,b)\n",
    "new_year"
   ]
  },
  {
   "cell_type": "markdown",
   "metadata": {
    "colab_type": "text",
    "id": "brlYhgdllj6V"
   },
   "source": [
    "Check your work by executing the next cell."
   ]
  },
  {
   "cell_type": "code",
   "execution_count": 4,
   "metadata": {
    "colab": {
     "base_uri": "https://localhost:8080/",
     "height": 46
    },
    "colab_type": "code",
    "executionInfo": {
     "elapsed": 5869,
     "status": "ok",
     "timestamp": 1567018850796,
     "user": {
      "displayName": "Jason Kuruzovich",
      "photoUrl": "https://lh3.googleusercontent.com/a-/AAuE7mA3rVQCA8Cvb_ag0a37NtL0nadMqx5jcT3eM5bn0g=s64",
      "userId": "00154528308428981209"
     },
     "user_tz": 240
    },
    "id": "MbtMToELlj6W",
    "outputId": "4d0f5b40-e5df-4cd7-eb15-31529d1dfc13"
   },
   "outputs": [
    {
     "data": {
      "text/html": [
       "\n",
       "    \n",
       "    \n",
       "        <p>All tests passed!</p>\n",
       "    \n",
       "    "
      ],
      "text/plain": [
       "<gofer.ok.OKTestsResult at 0x10e037910>"
      ]
     },
     "metadata": {},
     "output_type": "display_data"
    }
   ],
   "source": [
    "_ = ok.grade('q11')"
   ]
  },
  {
   "cell_type": "markdown",
   "metadata": {
    "colab_type": "text",
    "id": "QQVPUrfJlj6b"
   },
   "source": [
    "**Question 2.1.** Yuri Gagarin was the first person to travel through outer space.  When he emerged from his capsule upon landing on Earth, he [reportedly](https://en.wikiquote.org/wiki/Yuri_Gagarin) had the following conversation with a woman and girl who saw the landing:\n",
    "\n",
    "    The woman asked: \"Can it be that you have come from outer space?\"\n",
    "    Gagarin replied: \"As a matter of fact, I have!\"\n",
    "\n",
    "The cell below contains unfinished code.  Fill in the `...`s so that it prints out this conversation *exactly* as it appears above."
   ]
  },
  {
   "cell_type": "code",
   "execution_count": 5,
   "metadata": {
    "colab": {
     "base_uri": "https://localhost:8080/",
     "height": 51
    },
    "colab_type": "code",
    "executionInfo": {
     "elapsed": 5857,
     "status": "ok",
     "timestamp": 1567018850797,
     "user": {
      "displayName": "Jason Kuruzovich",
      "photoUrl": "https://lh3.googleusercontent.com/a-/AAuE7mA3rVQCA8Cvb_ag0a37NtL0nadMqx5jcT3eM5bn0g=s64",
      "userId": "00154528308428981209"
     },
     "user_tz": 240
    },
    "id": "trjENb24lj6c",
    "outputId": "cb7152f6-9849-4284-a5b1-1795f8e03621"
   },
   "outputs": [
    {
     "name": "stdout",
     "output_type": "stream",
     "text": [
      "The woman asked: \"Can it be that you have come from outer space?\"\n",
      "Gagarin replied: \"As a matter of fact, I have!\"\n"
     ]
    }
   ],
   "source": [
    "woman_asking = \"The woman asked:\"\n",
    "woman_quote = '\"Can it be that you have come from outer space?\"'\n",
    "gagarin_reply = 'Gagarin replied:'\n",
    "gagarin_quote = '\"As a matter of fact, I have!\"'\n",
    "\n",
    "print(woman_asking, woman_quote)\n",
    "print(gagarin_reply, gagarin_quote)"
   ]
  },
  {
   "cell_type": "code",
   "execution_count": 6,
   "metadata": {
    "colab": {
     "base_uri": "https://localhost:8080/",
     "height": 46
    },
    "colab_type": "code",
    "executionInfo": {
     "elapsed": 5847,
     "status": "ok",
     "timestamp": 1567018850797,
     "user": {
      "displayName": "Jason Kuruzovich",
      "photoUrl": "https://lh3.googleusercontent.com/a-/AAuE7mA3rVQCA8Cvb_ag0a37NtL0nadMqx5jcT3eM5bn0g=s64",
      "userId": "00154528308428981209"
     },
     "user_tz": 240
    },
    "id": "RAXIIR4qlj6h",
    "outputId": "f46b4afc-70a7-43c7-8937-6152af077bee"
   },
   "outputs": [
    {
     "data": {
      "text/html": [
       "\n",
       "    \n",
       "    \n",
       "        <p>All tests passed!</p>\n",
       "    \n",
       "    "
      ],
      "text/plain": [
       "<gofer.ok.OKTestsResult at 0x10e037dd0>"
      ]
     },
     "metadata": {},
     "output_type": "display_data"
    }
   ],
   "source": [
    "_ = ok.grade('q21')"
   ]
  },
  {
   "cell_type": "markdown",
   "metadata": {
    "colab_type": "text",
    "id": "BilX4dLvlj6k"
   },
   "source": [
    "## 2.1. String Methods"
   ]
  },
  {
   "cell_type": "markdown",
   "metadata": {
    "colab_type": "text",
    "id": "PcxJx2Qhlj6m"
   },
   "source": [
    "Strings can be transformed using **methods**, which are functions that involve an existing string and some other arguments. One example is the `replace` method, which replaces all instances of some part of a string with some alternative. \n",
    "\n",
    "A method is invoked on a string by placing a `.` after the string value, then the name of the method, and finally parentheses containing the arguments. Here's a sketch, where the `<` and `>` symbols aren't part of the syntax; they just mark the boundaries of sub-expressions.\n",
    "\n",
    "    <expression that evaluates to a string>.<method name>(<argument>, <argument>, ...)\n",
    "\n",
    "Try to predict the output of these examples, then execute them."
   ]
  },
  {
   "cell_type": "code",
   "execution_count": 7,
   "metadata": {
    "colab": {
     "base_uri": "https://localhost:8080/",
     "height": 34
    },
    "colab_type": "code",
    "executionInfo": {
     "elapsed": 5841,
     "status": "ok",
     "timestamp": 1567018850798,
     "user": {
      "displayName": "Jason Kuruzovich",
      "photoUrl": "https://lh3.googleusercontent.com/a-/AAuE7mA3rVQCA8Cvb_ag0a37NtL0nadMqx5jcT3eM5bn0g=s64",
      "userId": "00154528308428981209"
     },
     "user_tz": 240
    },
    "id": "kKQ90jlBlj6n",
    "outputId": "63ab8b12-84b3-4d88-e5eb-2125d2e41fee"
   },
   "outputs": [
    {
     "data": {
      "text/plain": [
       "'Hella'"
      ]
     },
     "execution_count": 7,
     "metadata": {},
     "output_type": "execute_result"
    }
   ],
   "source": [
    "# Replace one letter\n",
    "'Hello'.replace('o', 'a')"
   ]
  },
  {
   "cell_type": "code",
   "execution_count": 8,
   "metadata": {
    "colab": {
     "base_uri": "https://localhost:8080/",
     "height": 34
    },
    "colab_type": "code",
    "executionInfo": {
     "elapsed": 5833,
     "status": "ok",
     "timestamp": 1567018850798,
     "user": {
      "displayName": "Jason Kuruzovich",
      "photoUrl": "https://lh3.googleusercontent.com/a-/AAuE7mA3rVQCA8Cvb_ag0a37NtL0nadMqx5jcT3eM5bn0g=s64",
      "userId": "00154528308428981209"
     },
     "user_tz": 240
    },
    "id": "Sj-4JbLHlj6q",
    "outputId": "e0faf961-6ada-4e62-c591-59d6e34786c0"
   },
   "outputs": [
    {
     "data": {
      "text/plain": [
       "'matchmaker'"
      ]
     },
     "execution_count": 8,
     "metadata": {},
     "output_type": "execute_result"
    }
   ],
   "source": [
    "# Replace a sequence of letters, which appears twice\n",
    "'hitchhiker'.replace('hi', 'ma')"
   ]
  },
  {
   "cell_type": "markdown",
   "metadata": {
    "colab_type": "text",
    "id": "ACcBL4lllj6t"
   },
   "source": [
    "Once a name is bound to a string value, methods can be invoked on that name as well. The name is still bound to the original string, so a new name is needed to capture the result. "
   ]
  },
  {
   "cell_type": "code",
   "execution_count": 9,
   "metadata": {
    "colab": {
     "base_uri": "https://localhost:8080/",
     "height": 51
    },
    "colab_type": "code",
    "executionInfo": {
     "elapsed": 5826,
     "status": "ok",
     "timestamp": 1567018850799,
     "user": {
      "displayName": "Jason Kuruzovich",
      "photoUrl": "https://lh3.googleusercontent.com/a-/AAuE7mA3rVQCA8Cvb_ag0a37NtL0nadMqx5jcT3eM5bn0g=s64",
      "userId": "00154528308428981209"
     },
     "user_tz": 240
    },
    "id": "vdv5Bzfmlj6u",
    "outputId": "98b39a73-5687-48d8-8ea6-af4416a788c0"
   },
   "outputs": [
    {
     "name": "stdout",
     "output_type": "stream",
     "text": [
      "sharp: edged\n",
      "hot: magma\n"
     ]
    }
   ],
   "source": [
    "sharp = 'edged'\n",
    "hot = sharp.replace('ed', 'ma')\n",
    "print('sharp:', sharp)\n",
    "print('hot:', hot)"
   ]
  },
  {
   "cell_type": "markdown",
   "metadata": {
    "colab_type": "text",
    "id": "6nCBtTuRlj6w"
   },
   "source": [
    "You can call functions on the results of other functions.  For example,\n",
    "\n",
    "    max(abs(-5), abs(3))\n",
    "\n",
    "has value 5.  Similarly, you can invoke methods on the results of other method (or function) calls."
   ]
  },
  {
   "cell_type": "code",
   "execution_count": 10,
   "metadata": {
    "colab": {
     "base_uri": "https://localhost:8080/",
     "height": 34
    },
    "colab_type": "code",
    "executionInfo": {
     "elapsed": 5954,
     "status": "ok",
     "timestamp": 1567018850935,
     "user": {
      "displayName": "Jason Kuruzovich",
      "photoUrl": "https://lh3.googleusercontent.com/a-/AAuE7mA3rVQCA8Cvb_ag0a37NtL0nadMqx5jcT3eM5bn0g=s64",
      "userId": "00154528308428981209"
     },
     "user_tz": 240
    },
    "id": "iI4af5lvlj6w",
    "outputId": "5e157ff6-1c19-4c46-ba53-2ecfea87a6bd"
   },
   "outputs": [
    {
     "data": {
      "text/plain": [
       "'degrade'"
      ]
     },
     "execution_count": 10,
     "metadata": {},
     "output_type": "execute_result"
    }
   ],
   "source": [
    "# Calling replace on the output of another call to\n",
    "# replace\n",
    "'train'.replace('t', 'ing').replace('in', 'de')"
   ]
  },
  {
   "cell_type": "markdown",
   "metadata": {
    "colab_type": "text",
    "id": "Pch5nhitlj6y"
   },
   "source": [
    "Here's a picture of how Python evaluates a \"chained\" method call like that:\n",
    "\n",
    "<img src=\"chaining_method_calls.jpg\"/>"
   ]
  },
  {
   "cell_type": "markdown",
   "metadata": {
    "colab_type": "text",
    "id": "MEf9XfYllj6z"
   },
   "source": [
    "**Question 2.1.1.** Assign strings to the names `you` and `this` so that the final expression evaluates to a 10-letter English word with three double letters in a row.\n",
    "\n",
    "*Hint:* After you guess at some values for `you` and `this`, it's helpful to see the value of the variable `the`.  Try printing the value of `the` by adding a line like this:\n",
    "    \n",
    "    print(the)\n",
    "\n",
    "*Hint 2:* Run the tests if you're stuck.  They'll often give you help."
   ]
  },
  {
   "cell_type": "code",
   "execution_count": 11,
   "metadata": {
    "colab": {
     "base_uri": "https://localhost:8080/",
     "height": 34
    },
    "colab_type": "code",
    "executionInfo": {
     "elapsed": 5945,
     "status": "ok",
     "timestamp": 1567018850936,
     "user": {
      "displayName": "Jason Kuruzovich",
      "photoUrl": "https://lh3.googleusercontent.com/a-/AAuE7mA3rVQCA8Cvb_ag0a37NtL0nadMqx5jcT3eM5bn0g=s64",
      "userId": "00154528308428981209"
     },
     "user_tz": 240
    },
    "id": "-MBMyi6jlj6z",
    "outputId": "e73f8212-e0b2-479d-eeb0-2ff73aa1666d"
   },
   "outputs": [
    {
     "data": {
      "text/plain": [
       "'bookkeeper'"
      ]
     },
     "execution_count": 11,
     "metadata": {},
     "output_type": "execute_result"
    }
   ],
   "source": [
    "you = \"kkeep\"\n",
    "this = \"boo\"\n",
    "a = 'beeper'\n",
    "the = a.replace('p', you) \n",
    "the.replace('bee', this)\n",
    "#repeekkoob"
   ]
  },
  {
   "cell_type": "code",
   "execution_count": 51,
   "metadata": {},
   "outputs": [],
   "source": [
    "man1=\"test manual answer\"\n",
    "man2=\"test manual answer\"\n",
    "\n",
    "\n",
    "course=\"mgmt6560\"   #course number\n",
    "section=\"01\"          #section \n",
    "first_name=\"3for3\"   #For example, \"jason\"\n",
    "last_name=\"3for3\"    #For example, \"kuruzovich\"\n",
    "student_email=\"3for3\"     #for example \"kuruzj@rpi.edu\"\n",
    "github_id=\"3for3\"     #github id for example \"jkuruzovich\"\n",
    "collaborators = \"\"  #You can speak with others regarding the assignment, but all typed work must be your own.\n",
    "\n"
   ]
  },
  {
   "cell_type": "code",
   "execution_count": null,
   "metadata": {},
   "outputs": [],
   "source": []
  }
 ],
 "metadata": {
  "anaconda-cloud": {},
  "colab": {
   "name": "solution.ipynb",
   "provenance": [],
   "version": "0.3.2"
  },
  "kernelspec": {
   "display_name": "Python 3",
   "language": "python",
   "name": "python3"
  },
  "language_info": {
   "codemirror_mode": {
    "name": "ipython",
    "version": 3
   },
   "file_extension": ".py",
   "mimetype": "text/x-python",
   "name": "python",
   "nbconvert_exporter": "python",
   "pygments_lexer": "ipython3",
   "version": "3.6.9"
  }
 },
 "nbformat": 4,
 "nbformat_minor": 4
}
